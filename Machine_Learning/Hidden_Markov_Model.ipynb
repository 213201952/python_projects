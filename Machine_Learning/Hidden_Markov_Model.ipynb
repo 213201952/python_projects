{
 "cells": [
  {
   "cell_type": "markdown",
   "metadata": {},
   "source": [
    "# Hidden Marvov Model"
   ]
  },
  {
   "cell_type": "code",
   "execution_count": 1,
   "metadata": {},
   "outputs": [
    {
     "name": "stdout",
     "output_type": "stream",
     "text": [
      "[1, 1, 0, 0, 0, 1, 0, 1, 1, 1]\n"
     ]
    }
   ],
   "source": [
    "import numpy as np\n",
    "\n",
    "class HMM(object):\n",
    "    def __init__(self, N, M, pi=None, A=None, B=None):\n",
    "        self.N = N\n",
    "        self.M = M\n",
    "        self.pi = pi\n",
    "        self.A = A\n",
    "        self.B = B\n",
    "\n",
    "    def get_data_with_distribute(self, dist): # 根据给定的概率分布随机返回数据（索引）\n",
    "        r = np.random.rand()\n",
    "        for i, p in enumerate(dist):\n",
    "            if r < p: return i\n",
    "            r -= p\n",
    "\n",
    "    def generate(self, T: int):\n",
    "        '''\n",
    "        根据给定的参数生成观测序列\n",
    "        T: 指定要生成数据的数量\n",
    "        '''\n",
    "        z = self.get_data_with_distribute(self.pi)    # 根据初始概率分布生成第一个状态\n",
    "        x = self.get_data_with_distribute(self.B[z])  # 生成第一个观测数据\n",
    "        result = [x]\n",
    "        for _ in range(T-1):        # 依次生成余下的状态和观测数据\n",
    "            z = self.get_data_with_distribute(self.A[z])\n",
    "            x = self.get_data_with_distribute(self.B[z])\n",
    "            result.append(x)\n",
    "        return result\n",
    "\n",
    "if __name__ == \"__main__\":\n",
    "    pi = np.array([.25, .25, .25, .25])\n",
    "    A = np.array([\n",
    "        [0,  1,  0, 0],\n",
    "        [.4, 0, .6, 0],\n",
    "        [0, .4, 0, .6],\n",
    "        [0, 0, .5, .5]])\n",
    "    B = np.array([\n",
    "        [.5, .5],\n",
    "        [.3, .7],\n",
    "        [.6, .4],\n",
    "        [.8, .2]])\n",
    "    hmm = HMM(4, 2, pi, A, B)\n",
    "    print(hmm.generate(10))  # 生成10个数据\n"
   ]
  },
  {
   "cell_type": "markdown",
   "metadata": {},
   "source": [
    "1. 齐次马尔科夫假设：任意时刻的状态只依赖于前一时刻的状态，与其他时刻的状态无关（初始时刻的状态由参数$\\pi$决定）：\n",
    "$$\n",
    "P(z_t\\vert z_{t-1},z_{t-2},\\cdots,z_1,x_t,\\cdots,x_1)=P(z_t\\vert z_{t-1}),\\qquad t=2,3,\\cdots,T\n",
    "$$\n",
    "2. 观测独立假设：任意时刻的观测只依赖于该时刻的状态，与其他无关：\n",
    "$$\n",
    "P(x_t\\vert x_{t-1},x_{t-2},\\cdots,x_1,z_t,z_{t-1},\\cdots,z_1)=P(x_t\\vert z_t),\\qquad t=1,2,\\cdots,T \n",
    "$$"
   ]
  },
  {
   "cell_type": "markdown",
   "metadata": {},
   "source": [
    "### 前向概率"
   ]
  }
 ],
 "metadata": {
  "kernelspec": {
   "display_name": "Python 3.9.7 ('base')",
   "language": "python",
   "name": "python3"
  },
  "language_info": {
   "codemirror_mode": {
    "name": "ipython",
    "version": 3
   },
   "file_extension": ".py",
   "mimetype": "text/x-python",
   "name": "python",
   "nbconvert_exporter": "python",
   "pygments_lexer": "ipython3",
   "version": "3.9.7"
  },
  "orig_nbformat": 4,
  "vscode": {
   "interpreter": {
    "hash": "b09ec625f77bf4fd762565a912b97636504ad6ec901eb2d0f4cf5a7de23e1ee5"
   }
  }
 },
 "nbformat": 4,
 "nbformat_minor": 2
}
