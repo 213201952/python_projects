{
 "cells": [
  {
   "attachments": {},
   "cell_type": "markdown",
   "metadata": {},
   "source": [
    "# **Grover**"
   ]
  },
  {
   "cell_type": "code",
   "execution_count": 1,
   "metadata": {},
   "outputs": [
    {
     "data": {
      "text/html": [
       "<pre style=\"word-wrap: normal;white-space: pre;background: #fff0;line-height: 1.1;font-family: &quot;Courier New&quot;,Courier,monospace\">          ┌───┐┌───┐┌───┐   \n",
       "q_0: ──■──┤ X ├┤ Z ├┤ X ├─o─\n",
       "       │  └───┘└───┘└───┘ │ \n",
       "q_1: ──■──────────────────■─\n",
       "     ┌───┐                │ \n",
       "q_2: ┤ Z ├────────────────o─\n",
       "     └───┘                  </pre>"
      ],
      "text/plain": [
       "          ┌───┐┌───┐┌───┐   \n",
       "q_0: ──■──┤ X ├┤ Z ├┤ X ├─o─\n",
       "       │  └───┘└───┘└───┘ │ \n",
       "q_1: ──■──────────────────■─\n",
       "     ┌───┐                │ \n",
       "q_2: ┤ Z ├────────────────o─\n",
       "     └───┘                  "
      ]
     },
     "execution_count": 1,
     "metadata": {},
     "output_type": "execute_result"
    }
   ],
   "source": [
    "from qiskit.circuit.library import PhaseOracle\n",
    "oracle = PhaseOracle.from_dimacs_file('examples/3sat.dimacs')\n",
    "oracle.draw()"
   ]
  },
  {
   "cell_type": "code",
   "execution_count": 2,
   "metadata": {},
   "outputs": [
    {
     "data": {
      "text/html": [
       "<pre style=\"word-wrap: normal;white-space: pre;background: #fff0;line-height: 1.1;font-family: &quot;Courier New&quot;,Courier,monospace\">     ┌───┐\n",
       "q_0: ┤ H ├\n",
       "     ├───┤\n",
       "q_1: ┤ H ├\n",
       "     ├───┤\n",
       "q_2: ┤ H ├\n",
       "     └───┘</pre>"
      ],
      "text/plain": [
       "     ┌───┐\n",
       "q_0: ┤ H ├\n",
       "     ├───┤\n",
       "q_1: ┤ H ├\n",
       "     ├───┤\n",
       "q_2: ┤ H ├\n",
       "     └───┘"
      ]
     },
     "execution_count": 2,
     "metadata": {},
     "output_type": "execute_result"
    }
   ],
   "source": [
    "from qiskit import QuantumCircuit\n",
    "init = QuantumCircuit(3)\n",
    "init.h([0,1,2])\n",
    "init.draw()\n"
   ]
  },
  {
   "cell_type": "code",
   "execution_count": 3,
   "metadata": {},
   "outputs": [],
   "source": [
    "# steps 2 & 3 of Grover's algorithm\n",
    "from qiskit.circuit.library import GroverOperator\n",
    "grover_operator = GroverOperator(oracle)"
   ]
  },
  {
   "cell_type": "code",
   "execution_count": 4,
   "metadata": {},
   "outputs": [
    {
     "data": {
      "text/html": [
       "<pre style=\"word-wrap: normal;white-space: pre;background: #fff0;line-height: 1.1;font-family: &quot;Courier New&quot;,Courier,monospace\">        ┌───┐┌────┐ ░ ┌─┐      \n",
       "   q_0: ┤ H ├┤0   ├─░─┤M├──────\n",
       "        ├───┤│    │ ░ └╥┘┌─┐   \n",
       "   q_1: ┤ H ├┤1 Q ├─░──╫─┤M├───\n",
       "        ├───┤│    │ ░  ║ └╥┘┌─┐\n",
       "   q_2: ┤ H ├┤2   ├─░──╫──╫─┤M├\n",
       "        └───┘└────┘ ░  ║  ║ └╥┘\n",
       "meas_0: ═══════════════╩══╬══╬═\n",
       "                          ║  ║ \n",
       "meas_1: ══════════════════╩══╬═\n",
       "                             ║ \n",
       "meas_2: ═════════════════════╩═\n",
       "                               </pre>"
      ],
      "text/plain": [
       "        ┌───┐┌────┐ ░ ┌─┐      \n",
       "   q_0: ┤ H ├┤0   ├─░─┤M├──────\n",
       "        ├───┤│    │ ░ └╥┘┌─┐   \n",
       "   q_1: ┤ H ├┤1 Q ├─░──╫─┤M├───\n",
       "        ├───┤│    │ ░  ║ └╥┘┌─┐\n",
       "   q_2: ┤ H ├┤2   ├─░──╫──╫─┤M├\n",
       "        └───┘└────┘ ░  ║  ║ └╥┘\n",
       "meas_0: ═══════════════╩══╬══╬═\n",
       "                          ║  ║ \n",
       "meas_1: ══════════════════╩══╬═\n",
       "                             ║ \n",
       "meas_2: ═════════════════════╩═\n",
       "                               "
      ]
     },
     "execution_count": 4,
     "metadata": {},
     "output_type": "execute_result"
    }
   ],
   "source": [
    "qc = init.compose(grover_operator)\n",
    "qc.measure_all()\n",
    "qc.draw()"
   ]
  },
  {
   "cell_type": "code",
   "execution_count": 17,
   "metadata": {},
   "outputs": [],
   "source": [
    "# Simulate the circuit\n",
    "from qiskit import Aer, transpile\n",
    "sim = Aer.get_backend('aer_simulator')\n",
    "t_qc = transpile(qc, sim)\n",
    "counts = sim.run(t_qc).result().get_counts()\n",
    "\n",
    "# plot the results\n",
    "from qiskit.visualization import plot_histogram\n",
    "plot_histogram(counts,filename='images/3_sat.eps')"
   ]
  },
  {
   "attachments": {},
   "cell_type": "markdown",
   "metadata": {},
   "source": [
    "## Circuits for Grover's Algorithm"
   ]
  },
  {
   "cell_type": "code",
   "execution_count": 6,
   "metadata": {},
   "outputs": [],
   "source": [
    "from qiskit import QuantumCircuit"
   ]
  },
  {
   "cell_type": "code",
   "execution_count": 7,
   "metadata": {},
   "outputs": [
    {
     "data": {
      "text/html": [
       "<pre style=\"word-wrap: normal;white-space: pre;background: #fff0;line-height: 1.1;font-family: &quot;Courier New&quot;,Courier,monospace\">        \n",
       "q_0: ─■─\n",
       "      │ \n",
       "q_1: ─■─\n",
       "        </pre>"
      ],
      "text/plain": [
       "        \n",
       "q_0: ─■─\n",
       "      │ \n",
       "q_1: ─■─\n",
       "        "
      ]
     },
     "execution_count": 7,
     "metadata": {},
     "output_type": "execute_result"
    }
   ],
   "source": [
    "oracle = QuantumCircuit(2)\n",
    "oracle.cz(0,1)  # invert phase of |11>\n",
    "oracle.draw()"
   ]
  },
  {
   "cell_type": "code",
   "execution_count": 8,
   "metadata": {},
   "outputs": [
    {
     "data": {
      "text/latex": [
       "$$\n",
       "U_\\text{oracle}=\n",
       "\\begin{bmatrix}\n",
       "1 & 0 & 0 & 0  \\\\\n",
       " 0 & 1 & 0 & 0  \\\\\n",
       " 0 & 0 & 1 & 0  \\\\\n",
       " 0 & 0 & 0 & -1  \\\\\n",
       " \\end{bmatrix}\n",
       "$$"
      ],
      "text/plain": [
       "<IPython.core.display.Latex object>"
      ]
     },
     "metadata": {},
     "output_type": "display_data"
    }
   ],
   "source": [
    "def display_unitary(qc, prefix=\"\"):\n",
    "    \"\"\"Simulates a simple circuit and display its matrix representation.\n",
    "    Args:\n",
    "        qc (QuantumCircuit): The circuit to compile to a unitary matrix\n",
    "        prefix (str): Optional LaTeX to be displayed before the matrix\n",
    "    Returns:\n",
    "        None (displays matrix as side effect)\n",
    "    \"\"\"\n",
    "    from qiskit import Aer\n",
    "    from qiskit.visualization import array_to_latex\n",
    "    sim = Aer.get_backend('aer_simulator')\n",
    "    # Next, we'll create a copy of the circuit and work on\n",
    "    # that so we don't change anything as a side effect\n",
    "    qc = qc.copy()\n",
    "    # Tell the simulator to save the unitary matrix of this circuit\n",
    "    qc.save_unitary()\n",
    "    unitary = sim.run(qc).result().get_unitary()\n",
    "    display(array_to_latex(unitary, prefix=prefix))\n",
    "\n",
    "display_unitary(oracle, \"U_\\\\text{oracle}=\")"
   ]
  },
  {
   "cell_type": "code",
   "execution_count": 9,
   "metadata": {},
   "outputs": [
    {
     "data": {
      "text/html": [
       "<pre style=\"word-wrap: normal;white-space: pre;background: #fff0;line-height: 1.1;font-family: &quot;Courier New&quot;,Courier,monospace\">     ┌───┐\n",
       "q_0: ┤ H ├\n",
       "     ├───┤\n",
       "q_1: ┤ H ├\n",
       "     └───┘</pre>"
      ],
      "text/plain": [
       "     ┌───┐\n",
       "q_0: ┤ H ├\n",
       "     ├───┤\n",
       "q_1: ┤ H ├\n",
       "     └───┘"
      ]
     },
     "execution_count": 9,
     "metadata": {},
     "output_type": "execute_result"
    }
   ],
   "source": [
    "diffuser = QuantumCircuit(2)\n",
    "diffuser.h([0, 1])\n",
    "diffuser.draw()"
   ]
  },
  {
   "cell_type": "code",
   "execution_count": 10,
   "metadata": {},
   "outputs": [
    {
     "data": {
      "text/html": [
       "<pre style=\"word-wrap: normal;white-space: pre;background: #fff0;line-height: 1.1;font-family: &quot;Courier New&quot;,Courier,monospace\">     ┌───┐┌───┐\n",
       "q_0: ┤ H ├┤ X ├\n",
       "     ├───┤├───┤\n",
       "q_1: ┤ H ├┤ X ├\n",
       "     └───┘└───┘</pre>"
      ],
      "text/plain": [
       "     ┌───┐┌───┐\n",
       "q_0: ┤ H ├┤ X ├\n",
       "     ├───┤├───┤\n",
       "q_1: ┤ H ├┤ X ├\n",
       "     └───┘└───┘"
      ]
     },
     "execution_count": 10,
     "metadata": {},
     "output_type": "execute_result"
    }
   ],
   "source": [
    "diffuser.x([0,1])\n",
    "diffuser.draw()"
   ]
  },
  {
   "cell_type": "code",
   "execution_count": 11,
   "metadata": {},
   "outputs": [
    {
     "data": {
      "text/html": [
       "<pre style=\"word-wrap: normal;white-space: pre;background: #fff0;line-height: 1.1;font-family: &quot;Courier New&quot;,Courier,monospace\">     ┌───┐┌───┐   ┌───┐┌───┐\n",
       "q_0: ┤ H ├┤ X ├─■─┤ X ├┤ H ├\n",
       "     ├───┤├───┤ │ ├───┤├───┤\n",
       "q_1: ┤ H ├┤ X ├─■─┤ X ├┤ H ├\n",
       "     └───┘└───┘   └───┘└───┘</pre>"
      ],
      "text/plain": [
       "     ┌───┐┌───┐   ┌───┐┌───┐\n",
       "q_0: ┤ H ├┤ X ├─■─┤ X ├┤ H ├\n",
       "     ├───┤├───┤ │ ├───┤├───┤\n",
       "q_1: ┤ H ├┤ X ├─■─┤ X ├┤ H ├\n",
       "     └───┘└───┘   └───┘└───┘"
      ]
     },
     "execution_count": 11,
     "metadata": {},
     "output_type": "execute_result"
    }
   ],
   "source": [
    "diffuser.cz(0,1)\n",
    "diffuser.x([0,1])\n",
    "diffuser.h([0,1])\n",
    "diffuser.draw()"
   ]
  },
  {
   "cell_type": "code",
   "execution_count": 12,
   "metadata": {},
   "outputs": [
    {
     "data": {
      "text/html": [
       "<pre style=\"word-wrap: normal;white-space: pre;background: #fff0;line-height: 1.1;font-family: &quot;Courier New&quot;,Courier,monospace\">        ┌───┐   ┌───┐┌───┐   ┌───┐┌───┐ ░ ┌─┐   \n",
       "   q_0: ┤ H ├─■─┤ H ├┤ X ├─■─┤ X ├┤ H ├─░─┤M├───\n",
       "        ├───┤ │ ├───┤├───┤ │ ├───┤├───┤ ░ └╥┘┌─┐\n",
       "   q_1: ┤ H ├─■─┤ H ├┤ X ├─■─┤ X ├┤ H ├─░──╫─┤M├\n",
       "        └───┘   └───┘└───┘   └───┘└───┘ ░  ║ └╥┘\n",
       "meas_0: ═══════════════════════════════════╩══╬═\n",
       "                                              ║ \n",
       "meas_1: ══════════════════════════════════════╩═\n",
       "                                                </pre>"
      ],
      "text/plain": [
       "        ┌───┐   ┌───┐┌───┐   ┌───┐┌───┐ ░ ┌─┐   \n",
       "   q_0: ┤ H ├─■─┤ H ├┤ X ├─■─┤ X ├┤ H ├─░─┤M├───\n",
       "        ├───┤ │ ├───┤├───┤ │ ├───┤├───┤ ░ └╥┘┌─┐\n",
       "   q_1: ┤ H ├─■─┤ H ├┤ X ├─■─┤ X ├┤ H ├─░──╫─┤M├\n",
       "        └───┘   └───┘└───┘   └───┘└───┘ ░  ║ └╥┘\n",
       "meas_0: ═══════════════════════════════════╩══╬═\n",
       "                                              ║ \n",
       "meas_1: ══════════════════════════════════════╩═\n",
       "                                                "
      ]
     },
     "execution_count": 12,
     "metadata": {},
     "output_type": "execute_result"
    }
   ],
   "source": [
    "grover = QuantumCircuit(2)\n",
    "grover.h([0,1])  # initialise |s>\n",
    "grover = grover.compose(oracle)\n",
    "grover = grover.compose(diffuser)\n",
    "grover.measure_all()\n",
    "grover.draw()"
   ]
  },
  {
   "cell_type": "code",
   "execution_count": 13,
   "metadata": {},
   "outputs": [
    {
     "data": {
      "text/plain": [
       "{'11': 1024}"
      ]
     },
     "execution_count": 13,
     "metadata": {},
     "output_type": "execute_result"
    }
   ],
   "source": [
    "from qiskit import Aer\n",
    "sim = Aer.get_backend('aer_simulator')\n",
    "sim.run(grover).result().get_counts()"
   ]
  }
 ],
 "metadata": {
  "kernelspec": {
   "display_name": "base",
   "language": "python",
   "name": "python3"
  },
  "language_info": {
   "codemirror_mode": {
    "name": "ipython",
    "version": 3
   },
   "file_extension": ".py",
   "mimetype": "text/x-python",
   "name": "python",
   "nbconvert_exporter": "python",
   "pygments_lexer": "ipython3",
   "version": "3.9.7"
  },
  "orig_nbformat": 4
 },
 "nbformat": 4,
 "nbformat_minor": 2
}
