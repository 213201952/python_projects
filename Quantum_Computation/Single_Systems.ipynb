{
 "cells": [
  {
   "attachments": {},
   "cell_type": "markdown",
   "metadata": {},
   "source": [
    "# **Single Systems**"
   ]
  },
  {
   "attachments": {},
   "cell_type": "markdown",
   "metadata": {},
   "source": [
    "### Vectors and matrices in Python"
   ]
  },
  {
   "cell_type": "code",
   "execution_count": 3,
   "metadata": {},
   "outputs": [
    {
     "data": {
      "text/plain": [
       "array([0.5, 0.5])"
      ]
     },
     "execution_count": 3,
     "metadata": {},
     "output_type": "execute_result"
    }
   ],
   "source": [
    "from numpy import array\n",
    "\n",
    "ket0 = array([1, 0])\n",
    "ket1 = array([0, 1])\n",
    "\n",
    "ket0/2 + ket1/2"
   ]
  },
  {
   "cell_type": "code",
   "execution_count": 4,
   "metadata": {},
   "outputs": [
    {
     "data": {
      "text/plain": [
       "array([[1. , 1. ],\n",
       "       [0.5, 0. ]])"
      ]
     },
     "execution_count": 4,
     "metadata": {},
     "output_type": "execute_result"
    }
   ],
   "source": [
    "M1 = array([ [1, 1], [0, 0] ])\n",
    "M2 = array([ [1, 1], [1, 0] ])\n",
    "\n",
    "M1/2 + M2/2"
   ]
  },
  {
   "cell_type": "code",
   "execution_count": 5,
   "metadata": {},
   "outputs": [
    {
     "data": {
      "text/plain": [
       "array([1, 0])"
      ]
     },
     "metadata": {},
     "output_type": "display_data"
    },
    {
     "data": {
      "text/plain": [
       "array([[2, 1],\n",
       "       [0, 0]])"
      ]
     },
     "metadata": {},
     "output_type": "display_data"
    },
    {
     "data": {
      "text/plain": [
       "array([[1, 1],\n",
       "       [1, 1]])"
      ]
     },
     "metadata": {},
     "output_type": "display_data"
    }
   ],
   "source": [
    "from numpy import matmul\n",
    "\n",
    "display(matmul(M1,ket1))\n",
    "display(matmul(M1,M2))\n",
    "display(matmul(M2,M1))"
   ]
  },
  {
   "attachments": {},
   "cell_type": "markdown",
   "metadata": {},
   "source": [
    "### States, measurements, and operations in Qiskit"
   ]
  },
  {
   "cell_type": "code",
   "execution_count": 6,
   "metadata": {},
   "outputs": [
    {
     "name": "stdout",
     "output_type": "stream",
     "text": [
      "State vectors u, v, and w have been defined.\n"
     ]
    }
   ],
   "source": [
    "from qiskit.quantum_info import Statevector\n",
    "from numpy import sqrt\n",
    "\n",
    "u = Statevector([1/sqrt(2), 1/sqrt(2)])\n",
    "v = Statevector([(1+2.j)/3, -2/3])\n",
    "w = Statevector([1/3, 2/3])\n",
    "\n",
    "print(\"State vectors u, v, and w have been defined.\")"
   ]
  },
  {
   "cell_type": "code",
   "execution_count": 7,
   "metadata": {},
   "outputs": [
    {
     "data": {
      "text/latex": [
       "$$\\frac{\\sqrt{2}}{2} |0\\rangle+\\frac{\\sqrt{2}}{2} |1\\rangle$$"
      ],
      "text/plain": [
       "<IPython.core.display.Latex object>"
      ]
     },
     "metadata": {},
     "output_type": "display_data"
    },
    {
     "data": {
      "text/plain": [
       "[ 0.33333333+0.66666667j,-0.66666667+0.j        ]"
      ]
     },
     "metadata": {},
     "output_type": "display_data"
    }
   ],
   "source": [
    "display(u.draw('latex'))\n",
    "display(v.draw('text'))"
   ]
  },
  {
   "cell_type": "code",
   "execution_count": 8,
   "metadata": {},
   "outputs": [
    {
     "data": {
      "text/plain": [
       "True"
      ]
     },
     "metadata": {},
     "output_type": "display_data"
    },
    {
     "data": {
      "text/plain": [
       "True"
      ]
     },
     "metadata": {},
     "output_type": "display_data"
    },
    {
     "data": {
      "text/plain": [
       "False"
      ]
     },
     "metadata": {},
     "output_type": "display_data"
    }
   ],
   "source": [
    "display(u.is_valid())\n",
    "display(v.is_valid())\n",
    "display(w.is_valid())"
   ]
  },
  {
   "attachments": {},
   "cell_type": "markdown",
   "metadata": {},
   "source": [
    "### Simulating measurements using `Statevector`"
   ]
  },
  {
   "cell_type": "code",
   "execution_count": 9,
   "metadata": {},
   "outputs": [
    {
     "data": {
      "text/latex": [
       "$$(\\frac{1}{3} + \\frac{2 i}{3}) |0\\rangle- \\frac{2}{3} |1\\rangle$$"
      ],
      "text/plain": [
       "<IPython.core.display.Latex object>"
      ]
     },
     "execution_count": 9,
     "metadata": {},
     "output_type": "execute_result"
    }
   ],
   "source": [
    "v = Statevector([(1+2.j)/3, -2/3])\n",
    "v.draw('latex')"
   ]
  },
  {
   "cell_type": "code",
   "execution_count": 13,
   "metadata": {},
   "outputs": [
    {
     "data": {
      "text/plain": [
       "('0',\n",
       " Statevector([0.4472136+0.89442719j, 0.       +0.j        ],\n",
       "             dims=(2,)))"
      ]
     },
     "execution_count": 13,
     "metadata": {},
     "output_type": "execute_result"
    }
   ],
   "source": [
    "v.measure()"
   ]
  },
  {
   "cell_type": "code",
   "execution_count": 21,
   "metadata": {},
   "outputs": [
    {
     "data": {
      "text/plain": [
       "{'0': 563, '1': 437}"
      ]
     },
     "metadata": {},
     "output_type": "display_data"
    },
    {
     "data": {
      "image/png": "[encoded data removed]",
      "text/plain": [
       "<Figure size 504x360 with 1 Axes>"
      ]
     },
     "execution_count": 21,
     "metadata": {},
     "output_type": "execute_result"
    }
   ],
   "source": [
    "from qiskit.visualization import plot_histogram\n",
    "\n",
    "statistics = v.sample_counts(1000)\n",
    "display(statistics)\n",
    "plot_histogram(statistics)"
   ]
  },
  {
   "attachments": {},
   "cell_type": "markdown",
   "metadata": {},
   "source": [
    "### Performing operations with `Operator` and `Statevector`"
   ]
  },
  {
   "cell_type": "code",
   "execution_count": 22,
   "metadata": {},
   "outputs": [
    {
     "data": {
      "text/latex": [
       "$$(0.853553390593 + 0.353553390593 i) |0\\rangle+ (-0.353553390593 + 0.146446609407 i) |1\\rangle$$"
      ],
      "text/plain": [
       "<IPython.core.display.Latex object>"
      ]
     },
     "execution_count": 22,
     "metadata": {},
     "output_type": "execute_result"
    }
   ],
   "source": [
    "from qiskit.quantum_info import Operator\n",
    "\n",
    "X = Operator([ [0,1],[1,0] ])\n",
    "Y = Operator([ [0,-1.j],[1.j,0] ])\n",
    "Z = Operator([ [1,0],[0,-1] ])\n",
    "H = Operator([ [1/sqrt(2),1/sqrt(2)],[1/sqrt(2),-1/sqrt(2)] ])\n",
    "S = Operator([ [1,0],[0,1.j] ])\n",
    "T = Operator([ [1,0],[0,(1+1.j)/sqrt(2)] ])\n",
    "\n",
    "v = Statevector([1,0])\n",
    "\n",
    "v = v.evolve(H)\n",
    "v = v.evolve(T)\n",
    "v = v.evolve(H)\n",
    "v = v.evolve(T)\n",
    "v = v.evolve(Z)\n",
    "\n",
    "v.draw('latex')"
   ]
  },
  {
   "attachments": {},
   "cell_type": "markdown",
   "metadata": {},
   "source": [
    "### Looking ahead toward quantum circuits"
   ]
  },
  {
   "cell_type": "code",
   "execution_count": 23,
   "metadata": {},
   "outputs": [
    {
     "data": {
      "text/html": [
       "<pre style=\"word-wrap: normal;white-space: pre;background: #fff0;line-height: 1.1;font-family: &quot;Courier New&quot;,Courier,monospace\">   ┌───┐┌───┐┌───┐┌───┐┌───┐\n",
       "q: ┤ H ├┤ T ├┤ H ├┤ T ├┤ Z ├\n",
       "   └───┘└───┘└───┘└───┘└───┘</pre>"
      ],
      "text/plain": [
       "   ┌───┐┌───┐┌───┐┌───┐┌───┐\n",
       "q: ┤ H ├┤ T ├┤ H ├┤ T ├┤ Z ├\n",
       "   └───┘└───┘└───┘└───┘└───┘"
      ]
     },
     "execution_count": 23,
     "metadata": {},
     "output_type": "execute_result"
    }
   ],
   "source": [
    "from qiskit import QuantumCircuit\n",
    "\n",
    "circuit = QuantumCircuit(1)\n",
    "\n",
    "circuit.h(0)\n",
    "circuit.t(0)\n",
    "circuit.h(0)\n",
    "circuit.t(0)\n",
    "circuit.z(0)\n",
    "\n",
    "circuit.draw()"
   ]
  },
  {
   "cell_type": "code",
   "execution_count": 25,
   "metadata": {},
   "outputs": [
    {
     "data": {
      "text/latex": [
       "$$(0.853553390593 + 0.353553390593 i) |0\\rangle+ (-0.353553390593 + 0.146446609407 i) |1\\rangle$$"
      ],
      "text/plain": [
       "<IPython.core.display.Latex object>"
      ]
     },
     "execution_count": 25,
     "metadata": {},
     "output_type": "execute_result"
    }
   ],
   "source": [
    "ket0 = Statevector([1,0])\n",
    "v = ket0.evolve(circuit)\n",
    "v.draw('latex')"
   ]
  },
  {
   "cell_type": "code",
   "execution_count": 28,
   "metadata": {},
   "outputs": [
    {
     "data": {
      "image/png": "[encoded data removed]",
      "text/plain": [
       "<Figure size 504x360 with 1 Axes>"
      ]
     },
     "execution_count": 28,
     "metadata": {},
     "output_type": "execute_result"
    }
   ],
   "source": [
    "statistics = v.sample_counts(4000)\n",
    "plot_histogram(statistics)"
   ]
  }
 ],
 "metadata": {
  "kernelspec": {
   "display_name": "base",
   "language": "python",
   "name": "python3"
  },
  "language_info": {
   "codemirror_mode": {
    "name": "ipython",
    "version": 3
   },
   "file_extension": ".py",
   "mimetype": "text/x-python",
   "name": "python",
   "nbconvert_exporter": "python",
   "pygments_lexer": "ipython3",
   "version": "3.9.7"
  },
  "orig_nbformat": 4
 },
 "nbformat": 4,
 "nbformat_minor": 2
}
