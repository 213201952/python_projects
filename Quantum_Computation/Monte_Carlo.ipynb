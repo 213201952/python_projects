{
 "cells": [
  {
   "cell_type": "code",
   "execution_count": 3,
   "metadata": {},
   "outputs": [
    {
     "data": {
      "image/png": "[encoded data removed]",
      "text/plain": [
       "<Figure size 432x288 with 1 Axes>"
      ]
     },
     "metadata": {
      "needs_background": "light"
     },
     "output_type": "display_data"
    },
    {
     "name": "stdout",
     "output_type": "stream",
     "text": [
      "3.6806928\n"
     ]
    }
   ],
   "source": [
    "import numpy as np\n",
    "import matplotlib.pyplot as plt\n",
    "import math\n",
    "\n",
    "\n",
    "def func(x):\n",
    "    a = 0.1 * x ** 1.0/3\n",
    "    b = np.sin(x / math.pi)\n",
    "    y = a + (b + 0.1 * x) * x ** 2 + x\n",
    "    return y\n",
    "\n",
    "\n",
    "x = np.linspace(0, 2, 1000)\n",
    "x_hat = np.linspace(-0.1, 2.2, 1000)\n",
    "y_hat = np.linspace(6, 6, 1000)\n",
    "y = func(x)\n",
    "plt.plot(x, y)\n",
    "plt.fill_between(x, y, color='red', alpha=0.5)\n",
    "plt.plot(x_hat, y_hat)\n",
    "x_hhat = np.linspace(2.0, 2.0, 2000)\n",
    "y_hhat = np.linspace(-1.0, 7.0, 2000)\n",
    "plt.plot(x_hhat, y_hhat)\n",
    "x_low_hat = np.linspace(-0.1, 2.2, 1000)\n",
    "y_low_hat = np.linspace(0, 0, 1000)\n",
    "plt.plot(x_low_hat, y_low_hat)\n",
    "x_left_hat = np.linspace(0, 0, 1000)\n",
    "y_left_hat = np.linspace(-1.0, 7.0, 1000)\n",
    "plt.plot(x_left_hat, y_left_hat)\n",
    "plt.show()\n",
    "\n",
    "def integral():\n",
    "    n = 20000000\n",
    "    x_min, x_max = 0, 2.0\n",
    "    y_min, y_max = 0, 6.0\n",
    "\n",
    "    # count = 0\n",
    "    x = np.random.uniform(x_min, x_max, size=(n, 1))\n",
    "    y = np.random.uniform(y_min, y_max, size=(n, 1))\n",
    "    yy = func(x)\n",
    "    c = np.sum(yy > y)\n",
    "    ratio = c / float(n)\n",
    "    res = ratio * 2.0 * 6.0\n",
    "    print(res)\n",
    "\n",
    "integral()"
   ]
  }
 ],
 "metadata": {
  "kernelspec": {
   "display_name": "base",
   "language": "python",
   "name": "python3"
  },
  "language_info": {
   "codemirror_mode": {
    "name": "ipython",
    "version": 3
   },
   "file_extension": ".py",
   "mimetype": "text/x-python",
   "name": "python",
   "nbconvert_exporter": "python",
   "pygments_lexer": "ipython3",
   "version": "3.9.7"
  },
  "orig_nbformat": 4,
  "vscode": {
   "interpreter": {
    "hash": "b09ec625f77bf4fd762565a912b97636504ad6ec901eb2d0f4cf5a7de23e1ee5"
   }
  }
 },
 "nbformat": 4,
 "nbformat_minor": 2
}
